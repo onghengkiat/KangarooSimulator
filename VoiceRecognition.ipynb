{
  "nbformat": 4,
  "nbformat_minor": 0,
  "metadata": {
    "colab": {
      "name": "VoiceRecognition.ipynb",
      "provenance": [],
      "collapsed_sections": [],
      "toc_visible": true,
      "include_colab_link": true
    },
    "kernelspec": {
      "name": "python3",
      "display_name": "Python 3"
    }
  },
  "cells": [
    {
      "cell_type": "markdown",
      "metadata": {
        "id": "view-in-github",
        "colab_type": "text"
      },
      "source": [
        "<a href=\"https://colab.research.google.com/github/onghengkiat/KangarooSimulator/blob/master/VoiceRecognition.ipynb\" target=\"_parent\"><img src=\"https://colab.research.google.com/assets/colab-badge.svg\" alt=\"Open In Colab\"/></a>"
      ]
    },
    {
      "cell_type": "markdown",
      "metadata": {
        "id": "boorh61Bq7K5",
        "colab_type": "text"
      },
      "source": [
        "#Package Management\n",
        "\n",
        "1.   soundfile \n",
        "2.   librosa\n",
        "3.   glob\n",
        "4.   os\n",
        "5.   pickle\n",
        "6.   numpy\n",
        "7.   pyplot\n",
        "8.   pandas\n",
        "9.   seaborn\n",
        "10.  sklearn\n",
        "\n"
      ]
    },
    {
      "cell_type": "code",
      "metadata": {
        "id": "CI3aFMVhpsni",
        "colab_type": "code",
        "colab": {
          "base_uri": "https://localhost:8080/",
          "height": 205
        },
        "outputId": "a6e621ec-6bc8-420f-afc4-0f1769e667a4"
      },
      "source": [
        "#install the soundfile package that is initially not existed on google colab\n",
        "!pip install soundfile\n",
        "\n",
        "#used to extract the features from the sound file\n",
        "import librosa\n",
        "import soundfile\n",
        "\n",
        "#to retrieve files that match the certain pattern like the regular expression\n",
        "import glob\n",
        "import os\n",
        "\n",
        "#a useful tool to store large number of data and manage it\n",
        "import numpy as np\n",
        "\n",
        "#to save to and load model from the file\n",
        "import pickle\n",
        "\n",
        "#import my google drive so that I can save or load the model from my google drive\n",
        "#and also easy access to the sample data from the drive, else the dataset is quite large to be uploaded to gooogle colab\n",
        "from google.colab import drive\n",
        "\n",
        "#mount my google drive\n",
        "drive.mount('/content/drive')\n",
        "\n",
        "#packages used for plotting graph, evaluation metrics and processing data\n",
        "import matplotlib.pyplot as plt\n",
        "import seaborn as sn\n",
        "import pandas as pd\n",
        "\n",
        "#packages used to split the data into train and test sets, create a MLP classfier model\n",
        "from sklearn.model_selection import train_test_split\n",
        "from sklearn.neural_network import MLPClassifier\n",
        "\n",
        "#package used to evaluate the accuracy of the model\n",
        "from sklearn.metrics import accuracy_score"
      ],
      "execution_count": null,
      "outputs": [
        {
          "output_type": "stream",
          "text": [
            "Requirement already satisfied: soundfile in /usr/local/lib/python3.6/dist-packages (0.10.3.post1)\n",
            "Requirement already satisfied: cffi>=1.0 in /usr/local/lib/python3.6/dist-packages (from soundfile) (1.14.0)\n",
            "Requirement already satisfied: pycparser in /usr/local/lib/python3.6/dist-packages (from cffi>=1.0->soundfile) (2.20)\n",
            "Go to this URL in a browser: https://accounts.google.com/o/oauth2/auth?client_id=947318989803-6bn6qk8qdgf4n4g3pfee6491hc0brc4i.apps.googleusercontent.com&redirect_uri=urn%3aietf%3awg%3aoauth%3a2.0%3aoob&response_type=code&scope=email%20https%3a%2f%2fwww.googleapis.com%2fauth%2fdocs.test%20https%3a%2f%2fwww.googleapis.com%2fauth%2fdrive%20https%3a%2f%2fwww.googleapis.com%2fauth%2fdrive.photos.readonly%20https%3a%2f%2fwww.googleapis.com%2fauth%2fpeopleapi.readonly\n",
            "\n",
            "Enter your authorization code:\n",
            "··········\n",
            "Mounted at /content/drive\n"
          ],
          "name": "stdout"
        },
        {
          "output_type": "stream",
          "text": [
            "/usr/local/lib/python3.6/dist-packages/statsmodels/tools/_testing.py:19: FutureWarning: pandas.util.testing is deprecated. Use the functions in the public API at pandas.testing instead.\n",
            "  import pandas.util.testing as tm\n"
          ],
          "name": "stderr"
        }
      ]
    },
    {
      "cell_type": "markdown",
      "metadata": {
        "id": "lHPIOOT7qd04",
        "colab_type": "text"
      },
      "source": [
        "#Data Processing\n",
        "\n",
        "1.   Extract feature from the data\n",
        "2.   Load the data from sound files\n",
        "\n"
      ]
    },
    {
      "cell_type": "code",
      "metadata": {
        "id": "8jJ3CHkirl0U",
        "colab_type": "code",
        "colab": {}
      },
      "source": [
        "#DataFlair - Extract features (mfcc, chroma, mel) from a sound file\n",
        "def extract_feature(file_name, mfcc, chroma, mel):\n",
        "\n",
        "  #reading the sound file\n",
        "  with soundfile.SoundFile(file_name) as sound_file:\n",
        "\n",
        "    #read the sound file as a numpy of numbers \n",
        "    X = sound_file.read(dtype=\"float32\")\n",
        "    \n",
        "    #extract the sample rate of the sound file\n",
        "    sample_rate=sound_file.samplerate\n",
        "    \n",
        "    #create an empty numpy array to store the result that are produced from the following 3 features\n",
        "    result=np.array([])\n",
        "\n",
        "    #if mfcc is True, then extract the mfcc features\n",
        "    if mfcc:\n",
        "      #calculate the mean of each column of the mfcc extracted by using the sound file and sample_rate as the parameters\n",
        "      #n_mfcc determines the number of mfcc features to be extracted, in this case, it is 40\n",
        "      mfccs=np.mean(librosa.feature.mfcc(y=X, sr=sample_rate, n_mfcc=40).T, axis=0)\n",
        "\n",
        "      #then stack the 40 features extracted on the result numpy\n",
        "      result=np.hstack((result, mfccs))\n",
        "\n",
        "    #if chroma is True, then extract the chroma features\n",
        "    if chroma:\n",
        "      #get the stft and obtain its magnitude only, by making it positive\n",
        "      stft=np.abs(librosa.stft(X))\n",
        "\n",
        "      #calculate the mean of each column of the chroma extracted by using the stft and sample_rate\n",
        "      chroma=np.mean(librosa.feature.chroma_stft(S=stft, sr=sample_rate).T,axis=0)\n",
        "\n",
        "      #then stack the chroma features extracted on the result numpy\n",
        "      result=np.hstack((result, chroma))\n",
        "\n",
        "    #if mel is True, then extract the mel features\n",
        "    if mel:\n",
        "      #get the melspectrogram and calculate the mean of each column as the mel value\n",
        "      mel=np.mean(librosa.feature.melspectrogram(X, sr=sample_rate).T,axis=0)\n",
        "\n",
        "      #then stack the mel values on the result numpy\n",
        "      result=np.hstack((result, mel))\n",
        "  return result"
      ],
      "execution_count": null,
      "outputs": []
    },
    {
      "cell_type": "code",
      "metadata": {
        "id": "a5aCxOfqwMqf",
        "colab_type": "code",
        "colab": {}
      },
      "source": [
        "#DataFlair - Load the data and extract features for each sound file\n",
        "def load_data(test_size=0.2):\n",
        "    #create empty lists as the x features input and y actual output\n",
        "    x,y=[],[]\n",
        "\n",
        "    #recursively retrieve the file that matches the specific pattern in the path\n",
        "    for file in glob.glob(\"/content/drive/My Drive/speech-emotion-recognition-ravdess-data/Actor_*/*.wav\"):\n",
        "        \n",
        "        #get the file name of the file\n",
        "        file_name=os.path.basename(file)\n",
        "\n",
        "        #extract the emotion label from the file name\n",
        "        #-1 so that the first class label will be started from 0\n",
        "        #this could enable an easier interpretation in the future \n",
        "        emotion=int(file_name.split(\"-\")[2]) - 1\n",
        "\n",
        "        #extract the feature\n",
        "        feature=extract_feature(file, mfcc=True, chroma=True, mel=True)\n",
        "\n",
        "        #append the feature and emotion of this data into x and y which will be further analyzed later \n",
        "        x.append(feature)\n",
        "        y.append(emotion)\n",
        "\n",
        "    #split the data into test set and train set\n",
        "    #by default 80% train set and 20% test set\n",
        "    #we are not splitting validation data in this case as the size of the data set is too small\n",
        "    #probably if we split it more, the model would be overfitting faster\n",
        "    x_train, x_test, y_train, y_test = train_test_split(x, y, test_size=test_size, random_state=1)\n",
        "    return x_train,x_test,y_train,y_test\n"
      ],
      "execution_count": null,
      "outputs": []
    },
    {
      "cell_type": "code",
      "metadata": {
        "id": "sJ0qEcDjg76K",
        "colab_type": "code",
        "colab": {}
      },
      "source": [
        "#load the extracted features from the data\n",
        "x_train,x_test,y_train,y_test= load_data()"
      ],
      "execution_count": null,
      "outputs": []
    },
    {
      "cell_type": "markdown",
      "metadata": {
        "id": "puqa2Xggp2gP",
        "colab_type": "text"
      },
      "source": [
        "#Model Management\n",
        "\n",
        "1.   Tune Parameters\n",
        "2.   Train Model\n",
        "3.   Save Model\n",
        "4.   Load Model\n",
        "\n"
      ]
    },
    {
      "cell_type": "code",
      "metadata": {
        "id": "mrQoaAJgkxJH",
        "colab_type": "code",
        "colab": {}
      },
      "source": [
        "def buildModel(x_train, y_train, network_size, alpha_value, epoch_count, layer2= False, network2_size=0):\n",
        "  #Build a MLPClassifier model with 2 hidden layers\n",
        "  if layer2 == True:\n",
        "    #The model is built using alpha_value as the regularization term, 256 as the batch size,\n",
        "    #2 hidden layers that the 1st hidden layer contains network_size +1(bias) nodes\n",
        "    #the 2nd hidden layer contains network2_size + 1(bias) nodes\n",
        "    #uses the adaptive learning rate so that if the loss is not decreasing significantly, then\n",
        "    #the learning rate would be decreased to prevent it from oscillating around the minima so that it can converge better\n",
        "    model=MLPClassifier(alpha=alpha_value, batch_size=256, epsilon=1e-08, hidden_layer_sizes=(network_size,network2_size),\n",
        "                        learning_rate='adaptive', max_iter=500)\n",
        "  #Build a MLPClassifier model with only 1 hidden layer\n",
        "  else:  \n",
        "    #Its the same with 2 hidden layers, just a minor change on the hidden_layer_sizes parameter\n",
        "    model=MLPClassifier(alpha=alpha_value, batch_size=256, epsilon=1e-08, hidden_layer_sizes=(network_size,), \n",
        "                        learning_rate='adaptive', max_iter=500)\n",
        "  model.fit(x_train,y_train)\n",
        "  return model"
      ],
      "execution_count": null,
      "outputs": []
    },
    {
      "cell_type": "code",
      "metadata": {
        "id": "hx3_fGnykry1",
        "colab_type": "code",
        "colab": {}
      },
      "source": [
        "def getBestParameter(x_train,y_train,x_cv,y_cv):\n",
        "  bestNetworkSize1 = 0\n",
        "  bestNetworkSize2 =0\n",
        "  bestAccuracy = 0\n",
        "  bestModel = 0 \n",
        "  bestAlpha = 0\n",
        "\n",
        "  #the magnitude for the parameters to be tested\n",
        "  alpha = (0.0001,0.0003,0.001,0.003,0.01,0.03)\n",
        "  network1_size =(100,200,300,400,500)\n",
        "  network2_size = (10,30,50,70,90)\n",
        "  \n",
        "  count = 0 \n",
        "  #Tuning on the network size using 1 hidden layer only\n",
        "  for alp in alpha:\n",
        "    for size in network1_size:\n",
        "      #run 5 times so that the tuning process is more accurate as the intial weight is also randomize\n",
        "      for i in range(5):\n",
        "        count+=1\n",
        "        print(count)\n",
        "        #build the model using size as the number of nodes on 1st hidden layer\n",
        "        #300 is the maximum number of iterations being run\n",
        "        #using alp as the regularization parameter\n",
        "        model = buildModel(x_train,y_train,size,alp,300)\n",
        "\n",
        "        #got the prediction from the model on cross validation set\n",
        "        y_predict = model.predict(x_cv)\n",
        "\n",
        "        #uses the prediction to compare with the actual value to calculate the accuracy of the model on validation set\n",
        "        accuracy = accuracy_score(y_true = y_cv , y_pred = y_predict)\n",
        "        print(accuracy)\n",
        "        #if the accuracy is higher than the current best accuracy we get before using other parameter\n",
        "        #then replace all the best parameters to the current parameters\n",
        "        if accuracy > bestAccuracy:\n",
        "          #the best parameters are printed out in case the cell has to be terminated during running\n",
        "          #because it is quite a long process to run on everything\n",
        "          print(\"one layer parameters:\")\n",
        "          print(\"first hidden layer size: \",size)\n",
        "          print(\"alpha value: \",alp)\n",
        "          bestAccuracy = accuracy\n",
        "          bestNetworkSize1 = size\n",
        "          bestModel = model\n",
        "          bestAlpha = alp\n",
        "          print(\"Accuracy: \",bestAccuracy)\n",
        "        \n",
        "\n",
        "  #Tuning on the network sizes using 2 hidden layers\n",
        "  for alp in alpha:\n",
        "    for size in network1_size:\n",
        "      for size2 in network2_size:\n",
        "        #run 5 times so that the tuning process is more accurate as the intial weight is also randomize\n",
        "        for i in range(5):\n",
        "          count+=1\n",
        "          print(count)\n",
        "          #build the model using size as the number of nodes on 1st hidden layer\n",
        "          #uses size2 as the number of nodes on 2nd hidden layer\n",
        "          #layer2 = True determines that there are 2 hidden layers\n",
        "          #300 is the maximum number of iterations being run\n",
        "          #using alp as the regularization parameter\n",
        "          model = buildModel(x_train,y_train,size,alp,300,layer2=True,network2_size = network_size2)\n",
        "\n",
        "          #got the prediction from the model on cross validation set\n",
        "          y_predict = model.predict(x_cv)\n",
        "\n",
        "          #uses the prediction to compare with the actual value to calculate the accuracy of the model on validation set\n",
        "          accuracy = accuracy_score(y_true = y_cv , y_pred = y_predict)\n",
        "          print(accuracy)\n",
        "          #if the accuracy is higher than the current best accuracy we get before using other parameter\n",
        "          #then replace all the best parameters to the current parameters\n",
        "          if accuracy > bestAccuracy:\n",
        "            #the best parameters are printed out in case the cell has to be terminated during running\n",
        "            #because it is quite a long process to run on everything\n",
        "            print(\"two layer parameters:\")\n",
        "            print(\"first hidden layer size: \",size)\n",
        "            print(\"second hidden layer size: \",size2)\n",
        "            print(\"alpha value: \",alp)\n",
        "            bestAccuracy = accuracy\n",
        "            bestNetworkSize1 = size\n",
        "            bestNetworkSize2 = size2\n",
        "            bestModel = model\n",
        "            bestAlpha = alp\n",
        "            print(\"Accuracy\",bestAccuracy)\n",
        "\n",
        "  return bestModel,bestAccuracy,bestNetworkSize1, bestNetworkSize2,bestAlpha"
      ],
      "execution_count": null,
      "outputs": []
    },
    {
      "cell_type": "code",
      "metadata": {
        "id": "Dv6ia9xIlNFP",
        "colab_type": "code",
        "colab": {}
      },
      "source": [
        "#because of the dataset is too small, so we are forced to use the x_test and y_test as the validation data\n",
        "#else the data is too less for the model to fit and difficult to reach a good result\n",
        "model, accuracy, network_size1,network_size2, alpha = getBestParameter(x_train,y_train,x_test,y_test)"
      ],
      "execution_count": null,
      "outputs": []
    },
    {
      "cell_type": "code",
      "metadata": {
        "id": "XGnUiJOwmvmh",
        "colab_type": "code",
        "colab": {
          "base_uri": "https://localhost:8080/",
          "height": 1000
        },
        "outputId": "3a0a14e9-f190-4a93-dcaf-1aa465af2eb4"
      },
      "source": [
        "#tune the best initial weight\n",
        "best_model = 0\n",
        "best_accuracy = 0\n",
        "network_size1 = 390\n",
        "network_size2 = 70\n",
        "alpha = 0.01\n",
        "#build the model for 50 times, every time the model is built, random initialized weight would be used\n",
        "for i in range (50):\n",
        "\n",
        "  #build the model using the best parameters tune from the method above\n",
        "  #if got 2 hidden layers\n",
        "  if network_size2 > 0:\n",
        "    model = buildModel(x_train,y_train,network_size1,alpha,300, layer2 = True,network2_size = network_size2)\n",
        "\n",
        "  #if only 1 hidden layer\n",
        "  else :\n",
        "    model = buildModel(x_train,y_train,network_size1,alpha,300)\n",
        "\n",
        "  #calculate the accuracy on train set\n",
        "  y_train_predict = model.predict(x_train)\n",
        "  train_accuracy = accuracy_score(y_true = y_train , y_pred = y_train_predict)\n",
        "  print(\"Accuracy of the model on train set : %.2f\" % train_accuracy)\n",
        "\n",
        "  #calculate the accuracy on test set\n",
        "  y_test_predict = model.predict(x_test)\n",
        "  test_accuracy = accuracy_score(y_true = y_test , y_pred = y_test_predict)\n",
        "  print(\"Accuracy of the model on test set : %.2f\" % test_accuracy)\n",
        "\n",
        "  #if it is the best accuracy, then put it as the best_model and best_accuracy\n",
        "  if test_accuracy > best_accuracy :\n",
        "    best_model = model\n",
        "    best_accuracy = test_accuracy"
      ],
      "execution_count": null,
      "outputs": [
        {
          "output_type": "stream",
          "text": [
            "Accuracy of the model on train set : 0.83\n",
            "Accuracy of the model on test set : 0.55\n",
            "Accuracy of the model on train set : 0.53\n",
            "Accuracy of the model on test set : 0.40\n",
            "Accuracy of the model on train set : 0.53\n",
            "Accuracy of the model on test set : 0.41\n",
            "Accuracy of the model on train set : 0.61\n",
            "Accuracy of the model on test set : 0.49\n",
            "Accuracy of the model on train set : 0.61\n",
            "Accuracy of the model on test set : 0.48\n",
            "Accuracy of the model on train set : 0.76\n",
            "Accuracy of the model on test set : 0.50\n",
            "Accuracy of the model on train set : 0.79\n",
            "Accuracy of the model on test set : 0.50\n",
            "Accuracy of the model on train set : 0.66\n",
            "Accuracy of the model on test set : 0.47\n",
            "Accuracy of the model on train set : 0.61\n",
            "Accuracy of the model on test set : 0.46\n",
            "Accuracy of the model on train set : 0.66\n",
            "Accuracy of the model on test set : 0.45\n",
            "Accuracy of the model on train set : 0.68\n",
            "Accuracy of the model on test set : 0.50\n",
            "Accuracy of the model on train set : 0.44\n",
            "Accuracy of the model on test set : 0.38\n",
            "Accuracy of the model on train set : 0.75\n",
            "Accuracy of the model on test set : 0.51\n",
            "Accuracy of the model on train set : 0.70\n",
            "Accuracy of the model on test set : 0.54\n",
            "Accuracy of the model on train set : 0.62\n",
            "Accuracy of the model on test set : 0.48\n",
            "Accuracy of the model on train set : 0.80\n",
            "Accuracy of the model on test set : 0.50\n",
            "Accuracy of the model on train set : 0.68\n",
            "Accuracy of the model on test set : 0.50\n",
            "Accuracy of the model on train set : 0.60\n",
            "Accuracy of the model on test set : 0.44\n",
            "Accuracy of the model on train set : 0.59\n",
            "Accuracy of the model on test set : 0.46\n",
            "Accuracy of the model on train set : 0.72\n",
            "Accuracy of the model on test set : 0.52\n",
            "Accuracy of the model on train set : 0.78\n",
            "Accuracy of the model on test set : 0.51\n",
            "Accuracy of the model on train set : 0.67\n",
            "Accuracy of the model on test set : 0.49\n",
            "Accuracy of the model on train set : 0.68\n",
            "Accuracy of the model on test set : 0.55\n",
            "Accuracy of the model on train set : 0.80\n",
            "Accuracy of the model on test set : 0.55\n",
            "Accuracy of the model on train set : 0.47\n",
            "Accuracy of the model on test set : 0.33\n",
            "Accuracy of the model on train set : 0.77\n",
            "Accuracy of the model on test set : 0.53\n",
            "Accuracy of the model on train set : 0.72\n",
            "Accuracy of the model on test set : 0.49\n",
            "Accuracy of the model on train set : 0.67\n",
            "Accuracy of the model on test set : 0.52\n",
            "Accuracy of the model on train set : 0.72\n",
            "Accuracy of the model on test set : 0.51\n",
            "Accuracy of the model on train set : 0.66\n",
            "Accuracy of the model on test set : 0.49\n",
            "Accuracy of the model on train set : 0.70\n",
            "Accuracy of the model on test set : 0.51\n",
            "Accuracy of the model on train set : 0.82\n",
            "Accuracy of the model on test set : 0.55\n",
            "Accuracy of the model on train set : 0.66\n",
            "Accuracy of the model on test set : 0.49\n",
            "Accuracy of the model on train set : 0.66\n",
            "Accuracy of the model on test set : 0.50\n",
            "Accuracy of the model on train set : 0.72\n",
            "Accuracy of the model on test set : 0.50\n",
            "Accuracy of the model on train set : 0.56\n",
            "Accuracy of the model on test set : 0.37\n",
            "Accuracy of the model on train set : 0.65\n",
            "Accuracy of the model on test set : 0.45\n",
            "Accuracy of the model on train set : 0.70\n",
            "Accuracy of the model on test set : 0.48\n",
            "Accuracy of the model on train set : 0.64\n",
            "Accuracy of the model on test set : 0.47\n",
            "Accuracy of the model on train set : 0.67\n",
            "Accuracy of the model on test set : 0.50\n",
            "Accuracy of the model on train set : 0.83\n",
            "Accuracy of the model on test set : 0.52\n",
            "Accuracy of the model on train set : 0.69\n",
            "Accuracy of the model on test set : 0.48\n",
            "Accuracy of the model on train set : 0.75\n",
            "Accuracy of the model on test set : 0.54\n",
            "Accuracy of the model on train set : 0.68\n",
            "Accuracy of the model on test set : 0.50\n",
            "Accuracy of the model on train set : 0.69\n",
            "Accuracy of the model on test set : 0.53\n",
            "Accuracy of the model on train set : 0.78\n",
            "Accuracy of the model on test set : 0.54\n",
            "Accuracy of the model on train set : 0.56\n",
            "Accuracy of the model on test set : 0.47\n",
            "Accuracy of the model on train set : 0.73\n",
            "Accuracy of the model on test set : 0.53\n",
            "Accuracy of the model on train set : 0.73\n",
            "Accuracy of the model on test set : 0.52\n",
            "Accuracy of the model on train set : 0.76\n",
            "Accuracy of the model on test set : 0.51\n"
          ],
          "name": "stdout"
        }
      ]
    },
    {
      "cell_type": "code",
      "metadata": {
        "id": "Lme7rHtdpCQL",
        "colab_type": "code",
        "colab": {}
      },
      "source": [
        "def saveModel(model):\n",
        "  #set the file path to save the file, and also the filename to be saved\n",
        "  #the model is saved as .sav file\n",
        "  filepath = '/content/drive/My Drive/voice_recognition_model.sav'\n",
        "\n",
        "  #save the model using pickle.dump\n",
        "  pickle.dump(model, open(filepath, 'wb'))\n"
      ],
      "execution_count": null,
      "outputs": []
    },
    {
      "cell_type": "code",
      "metadata": {
        "id": "tuKLJ-10qEd_",
        "colab_type": "code",
        "colab": {}
      },
      "source": [
        "def loadModel():\n",
        "  #get the file path and also the filename to be loaded\n",
        "  filepath = '/content/drive/My Drive/voice_recognition_model.sav'\n",
        "\n",
        "  #load the model using pickel.load\n",
        "  loaded_model = pickle.load(open(filepath, 'rb'))\n",
        "  return loaded_model"
      ],
      "execution_count": null,
      "outputs": []
    },
    {
      "cell_type": "code",
      "metadata": {
        "id": "fcI4zzzoZQmI",
        "colab_type": "code",
        "colab": {
          "base_uri": "https://localhost:8080/",
          "height": 185
        },
        "outputId": "20b63cb7-88e4-48a8-dc1f-1e5083dee596"
      },
      "source": [
        "model = loadModel()\n",
        "#calculate the accuracy on train set\n",
        "y_train_predict = model.predict(x_train)\n",
        "train_accuracy = accuracy_score(y_true = y_train , y_pred = y_train_predict)\n",
        "print(\"Accuracy of the model on train set : %.2f\" % train_accuracy)\n",
        "\n",
        "#calculate the accuracy on test set\n",
        "y_test_predict = model.predict(x_test)\n",
        "test_accuracy = accuracy_score(y_true = y_test , y_pred = y_test_predict)\n",
        "print(\"Accuracy of the model on test set : %.2f\" % test_accuracy)\n",
        "\n",
        "print(model.get_params)"
      ],
      "execution_count": null,
      "outputs": [
        {
          "output_type": "stream",
          "text": [
            "Accuracy of the model on train set : 0.91\n",
            "Accuracy of the model on test set : 0.61\n",
            "<bound method BaseEstimator.get_params of MLPClassifier(activation='relu', alpha=0.01, batch_size=256, beta_1=0.9,\n",
            "              beta_2=0.999, early_stopping=False, epsilon=1e-08,\n",
            "              hidden_layer_sizes=(390, 70), learning_rate='adaptive',\n",
            "              learning_rate_init=0.001, max_fun=15000, max_iter=500,\n",
            "              momentum=0.9, n_iter_no_change=10, nesterovs_momentum=True,\n",
            "              power_t=0.5, random_state=None, shuffle=True, solver='adam',\n",
            "              tol=0.0001, validation_fraction=0.1, verbose=False,\n",
            "              warm_start=False)>\n"
          ],
          "name": "stdout"
        }
      ]
    },
    {
      "cell_type": "markdown",
      "metadata": {
        "id": "GzL7hCAqpFlw",
        "colab_type": "text"
      },
      "source": [
        "#Analysis\n",
        "1.   Loss Graph\n",
        "2.   Accuracy Graph\n",
        "3.   Confusion Matrix\n",
        "4.   Summary of the Confusion Matrix:\n",
        "  *   Precision\n",
        "  *   Recall\n",
        "  *   F1 Score\n",
        "\n",
        "\n"
      ]
    },
    {
      "cell_type": "code",
      "metadata": {
        "id": "Rhl4vw_lk8we",
        "colab_type": "code",
        "colab": {}
      },
      "source": [
        "def plotLossGraph(model):\n",
        "  #plot the loss vs iterations graph of the train set\n",
        "  plt.plot(model.loss_curve_)\n",
        "\n",
        "  #Set the title of the graph\n",
        "  plt.title('Model Loss')\n",
        "\n",
        "  #Set the label of the y-axis of the graph\n",
        "  plt.ylabel('loss')\n",
        "\n",
        "  #Set the label of the x-axis of the graph\n",
        "  plt.xlabel('iteration')\n",
        "\n",
        "  #show the graph\n",
        "  plt.show()"
      ],
      "execution_count": null,
      "outputs": []
    },
    {
      "cell_type": "code",
      "metadata": {
        "id": "uOIIE6rXhMO3",
        "colab_type": "code",
        "colab": {}
      },
      "source": [
        "def confusion_matrix(y_predict, y_test,emotion_labels):\n",
        "  #create a 2d numpy array with dimension number of emotion_labels * number of emotion_labels\n",
        "  matrix = np.zeros([len(emotion_labels),len(emotion_labels)])\n",
        "\n",
        "  #iterate through every output that is predicted by the model on the test set\n",
        "  for i in range(len(y_predict)):\n",
        "    #vertical column represents the predicted output\n",
        "    #horizontal row represents the actual output\n",
        "    #jot it down on that row and column of the matrix \n",
        "    #notes: if the index of row and column is equal meanings that the predicted output is correct\n",
        "    #thus, the diagonal of the matrix would be the number of correctly predicted output for the emotion\n",
        "    matrix[y_test[i],y_predict[i]] += 1\n",
        "\n",
        "  #calculate the accuracy, true positive, false positive, false negative and true negative\n",
        "  true_positive, false_positive, false_negative = evaluate_confusion(matrix)\n",
        "\n",
        "  #make the numpy to become a dataframe using pandas library\n",
        "  #matrix is used as the data to build the dataframe\n",
        "  #index is the row labels for the dataframe while columns is the column labels for the dataframe\n",
        "  #both of them are set to be the string in the emotion_labels\n",
        "  dataframe = pd.DataFrame(matrix, index = [i for i in emotion_labels],columns = [i for i in emotion_labels])\n",
        "\n",
        "  #create a new figure and set the figure size as 10 inches as width and 7 inches as height\n",
        "  plt.figure(figsize = (10,7))\n",
        "  \n",
        "  #uses seaborn library to create and plot the table as a heatmap by using the dataframe\n",
        "  #annot = True so that value on each cell is written on the heatmap\n",
        "  sn.heatmap(dataframe, annot=True)\n",
        "\n",
        "  #Set the title of the confusion matrix\n",
        "  plt.title('Confusion Matrix')\n",
        "\n",
        "  plt.ylabel('True label')\n",
        "  plt.xlabel('Predicted label')\n",
        "\n",
        "  #show the confusion matrix\n",
        "  plt.show()\n",
        "\n",
        "  #get the summary of that can be interpreted from this matrix which are f1_score,precision and recall\n",
        "  summary(true_positive, false_positive, false_negative)\n"
      ],
      "execution_count": null,
      "outputs": []
    },
    {
      "cell_type": "code",
      "metadata": {
        "id": "9B1rnKbZSDvc",
        "colab_type": "code",
        "colab": {}
      },
      "source": [
        "def evaluate_confusion(matrix):\n",
        "  #create a numpy that stores the number of true positive for each class\n",
        "  true_positive = np.zeros(matrix.shape[0])\n",
        "\n",
        "  #iterate through every row in the matrix \n",
        "  for i in range(matrix.shape[0]):\n",
        "    #when row and column are equal, it means the true positive cases, so add it into true_positive numpy\n",
        "    true_positive[i] = matrix[i,i]\n",
        "  \n",
        "  #create the false positive by summing up each row\n",
        "  false_positive = np.sum(matrix,axis = 0) - true_positive\n",
        "  \n",
        "  #calculate the false negative by summing up each column\n",
        "  false_negative = np.sum(matrix,axis = 1) - true_positive\n",
        "\n",
        "  #calculate true negative \n",
        "  true_negative = np.sum(matrix) - true_positive - false_positive - false_negative\n",
        "\n",
        "  return true_positive, false_positive, false_negative\n",
        "  "
      ],
      "execution_count": null,
      "outputs": []
    },
    {
      "cell_type": "code",
      "metadata": {
        "id": "tzynMIjQtcyM",
        "colab_type": "code",
        "colab": {}
      },
      "source": [
        "def plotAccuracyBar(y_predict,y_test,emotion_labels):\n",
        "  #create a numpy that represents accuracy for each emotion label\n",
        "  #noted: it is firstly used to represent the number of correctly predicted output for each label\n",
        "  #then after that divided by the total number of each label in the test set\n",
        "  accuracy = np.zeros(len(emotion_labels))\n",
        "\n",
        "  #create a numpy that represents total number of each emotion label in the test set\n",
        "  numOfEachLabel = np.zeros(8)\n",
        "\n",
        "  #iterate through all the outputs\n",
        "  for i in range(len(y_predict)):\n",
        "    #if the output is predicted correctly as the test set\n",
        "    if(y_predict[i] == y_test[i]):\n",
        "      #then record it in the accuracy numpy array\n",
        "      accuracy[y_test[i]] += 1\n",
        "    #For each iteration, increment the number of the label in the numOfEachLabel numpy array also\n",
        "    numOfEachLabel[y_test[i]] += 1\n",
        "\n",
        "  #calculate the accuracy of each label and assign it to the accuracy numpy array\n",
        "  accuracy = accuracy/numOfEachLabel*100\n",
        "  \n",
        "  #Set the title of the bar\n",
        "  plt.title('Accuracy Bar')\n",
        "    \n",
        "  #plot the bar graph using emotion_labels as x-axis and accuracy as the y-axis\n",
        "  #makes it to be a horizontal bar so that the labels can be clearly seen\n",
        "  plt.barh(emotion_labels,accuracy)\n",
        "\n",
        "  #label the y-axis of the graph as \"Emotion\"\n",
        "  plt.ylabel(\"Emotion\")   \n",
        "\n",
        "  #label the x-axis of the graph as \"Accuracy in %\"\n",
        "  plt.xlabel(\"Accuracy in %\")\n",
        "\n",
        "  #show the graph\"\n",
        "  plt.show()\n"
      ],
      "execution_count": null,
      "outputs": []
    },
    {
      "cell_type": "code",
      "metadata": {
        "id": "1GIE2w9NCxng",
        "colab_type": "code",
        "colab": {}
      },
      "source": [
        "def getPrecision(true_positive, false_positive): \n",
        "\n",
        "  #calculate the precision = true_positive / (true positive + false positive)\n",
        "  precision = true_positive / (true_positive + false_positive)\n",
        "  return precision\n",
        "    "
      ],
      "execution_count": null,
      "outputs": []
    },
    {
      "cell_type": "code",
      "metadata": {
        "id": "7_Wvp9meS2mK",
        "colab_type": "code",
        "colab": {}
      },
      "source": [
        "def getRecall(true_positive, false_negative):\n",
        "\n",
        "  #calculate the recall = true_positive / (true positive + false negative)\n",
        "  recall = true_positive / (true_positive + false_negative)\n",
        "  return recall"
      ],
      "execution_count": null,
      "outputs": []
    },
    {
      "cell_type": "code",
      "metadata": {
        "id": "L59o04rZUrec",
        "colab_type": "code",
        "colab": {}
      },
      "source": [
        "def getF1_score(precision, recall):\n",
        "    #calcula the f1 score using the formula\n",
        "    score = 2*precision*recall/ (precision + recall)\n",
        "    return score\n"
      ],
      "execution_count": null,
      "outputs": []
    },
    {
      "cell_type": "code",
      "metadata": {
        "id": "vaRgvF18cPQH",
        "colab_type": "code",
        "colab": {}
      },
      "source": [
        "def summary(true_positive, false_positive, false_negative):\n",
        "  #get the precision,recall and f1_score value\n",
        "  precision = getPrecision(true_positive, false_positive)\n",
        "  recall = getRecall(true_positive, false_negative)\n",
        "  f1_score = getF1_score(precision,recall)\n",
        "\n",
        "  #concatenate them into summary numpy array by column\n",
        "  summary = np.vstack((precision,recall))\n",
        "  summary = np.vstack((summary,f1_score))\n",
        "\n",
        "  #make it into dataframe, column labels are emotion_labels\n",
        "  #row labels are precision,recall and f1_score\n",
        "  summary_df = pd.DataFrame(summary, index = ['Precision','Recall','F1 Score'],columns = [i for i in emotion_labels])\n",
        "  \n",
        "  #create a new figure and set the figure size as 10 inches as width and 7 inches as height\n",
        "  plt.figure(figsize = (10,7))\n",
        "\n",
        "  #uses seaborn library to create and plot the table as a heatmap by using the summary dataframe\n",
        "  #annot = True so that value on each cell is written on the heatmap\n",
        "  sn.heatmap(summary_df, annot=True)\n",
        "\n",
        "  #Set the title of the summary table\n",
        "  plt.title('Summary')\n",
        "\n",
        "  #show the summary table\n",
        "  plt.show()"
      ],
      "execution_count": null,
      "outputs": []
    },
    {
      "cell_type": "code",
      "metadata": {
        "id": "lcConZHKP7ui",
        "colab_type": "code",
        "colab": {
          "base_uri": "https://localhost:8080/",
          "height": 1000
        },
        "outputId": "1a0af605-3a69-404a-de2c-f5ef2cb82f33"
      },
      "source": [
        "#get the predicted output by the model on the test set\n",
        "predictions = model.predict(x_test)\n",
        "\n",
        "#define the emotion labels for each output class\n",
        "emotion_labels = ['neutral', 'calm', 'happy', 'sad', ' angry', 'fearful', 'disgusting', 'surprised']\n",
        "\n",
        "#plot the loss vs iteration graph\n",
        "plotLossGraph(model)\n",
        "\n",
        "#plot the accuracy bar for each label\n",
        "plotAccuracyBar(predictions, y_test, emotion_labels)\n",
        "\n",
        "#plot the confusion matrix and also the summary table of the matrix in the method\n",
        "confusion_matrix(predictions,y_test,emotion_labels)\n"
      ],
      "execution_count": null,
      "outputs": [
        {
          "output_type": "display_data",
          "data": {
            "image/png": "[encoded data removed]",
            "text/plain": [
              "<Figure size 432x288 with 1 Axes>"
            ]
          },
          "metadata": {
            "tags": [],
            "needs_background": "light"
          }
        },
        {
          "output_type": "display_data",
          "data": {
            "image/png": "[encoded data removed]",
            "text/plain": [
              "<Figure size 432x288 with 1 Axes>"
            ]
          },
          "metadata": {
            "tags": [],
            "needs_background": "light"
          }
        },
        {
          "output_type": "display_data",
          "data": {
            "image/png": "[encoded data removed]",
            "text/plain": [
              "<Figure size 720x504 with 2 Axes>"
            ]
          },
          "metadata": {
            "tags": [],
            "needs_background": "light"
          }
        },
        {
          "output_type": "display_data",
          "data": {
            "image/png": "[encoded data removed]",
            "text/plain": [
              "<Figure size 720x504 with 2 Axes>"
            ]
          },
          "metadata": {
            "tags": [],
            "needs_background": "light"
          }
        }
      ]
    }
  ]
}